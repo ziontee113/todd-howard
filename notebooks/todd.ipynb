{
    "cells": [
        {
            "cell_type": "code",
            "execution_count": 8,
            "id": "8693f9bc",
            "metadata": {
                "trusted": true
            },
            "outputs": [],
            "source": "import spacy"
        },
        {
            "cell_type": "code",
            "execution_count": 9,
            "id": "aee4a2b5",
            "metadata": {
                "trusted": true
            },
            "outputs": [],
            "source": "nlp = spacy.blank(\"en\")"
        },
        {
            "cell_type": "code",
            "execution_count": 11,
            "metadata": {
                "trusted": true
            },
            "outputs": [],
            "source": "doc = nlp(\"Hello world!\")"
        },
        {
            "cell_type": "code",
            "execution_count": 12,
            "metadata": {
                "trusted": true
            },
            "outputs": [
                {
                    "name": "stdout",
                    "output_type": "stream",
                    "text": "Hello\nworld\n!\n"
                }
            ],
            "source": "for token in doc:\n    print(token.text)"
        },
        {
            "cell_type": "code",
            "execution_count": 13,
            "metadata": {
                "trusted": true
            },
            "outputs": [
                {
                    "name": "stdout",
                    "output_type": "stream",
                    "text": "world\n"
                }
            ],
            "source": "token = doc[1]\nprint(token.text)"
        },
        {
            "cell_type": "code",
            "execution_count": 19,
            "metadata": {
                "trusted": true
            },
            "outputs": [
                {
                    "name": "stdout",
                    "output_type": "stream",
                    "text": "world!\n"
                }
            ],
            "source": "span = doc[1:3]\nprint(span.text)"
        },
        {
            "cell_type": "code",
            "execution_count": 20,
            "metadata": {
                "trusted": true
            },
            "outputs": [
                {
                    "name": "stdout",
                    "output_type": "stream",
                    "text": "Index:    [0, 1, 2, 3, 4]\nText:     ['It', 'costs', '$', '5', '.']\nis_alpha: [True, True, False, False, False]\nis_punct: [False, False, False, False, True]\nlike_num: [False, False, False, True, False]\n"
                }
            ],
            "source": "doc2 = nlp(\"It costs $5.\")\n\nprint(\"Index:   \", [token.i for token in doc2])\nprint(\"Text:    \", [token.text for token in doc2])\n\nprint(\"is_alpha:\", [token.is_alpha for token in doc2])\nprint(\"is_punct:\", [token.is_punct for token in doc2])\nprint(\"like_num:\", [token.like_num for token in doc2])"
        }
    ],
    "metadata": {
        "kernelspec": {
            "display_name": "Poetry",
            "language": "python",
            "name": "poetry-kernel"
        },
        "language_info": {
            "codemirror_mode": {
                "name": "ipython",
                "version": 3
            },
            "file_extension": ".py",
            "mimetype": "text/x-python",
            "name": "python",
            "nbconvert_exporter": "python",
            "pygments_lexer": "ipython3",
            "version": "3.11.3"
        }
    },
    "nbformat": 4,
    "nbformat_minor": 5
}