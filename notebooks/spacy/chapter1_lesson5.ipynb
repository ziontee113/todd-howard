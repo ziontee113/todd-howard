{
    "cells": [
        {
            "cell_type": "code",
            "execution_count": 1,
            "metadata": {
                "trusted": true
            },
            "outputs": [],
            "source": "import spacy"
        },
        {
            "cell_type": "code",
            "execution_count": 3,
            "metadata": {
                "trusted": true
            },
            "outputs": [],
            "source": "nlp = spacy.load(\"en_core_web_sm\")"
        },
        {
            "cell_type": "code",
            "execution_count": 6,
            "metadata": {
                "trusted": true
            },
            "outputs": [
                {
                    "name": "stdout",
                    "output_type": "stream",
                    "text": "She PRON\nate VERB\nthe DET\npizza NOUN\n"
                }
            ],
            "source": "doc = nlp(\"She ate the pizza\")\n\n# Iterate over the tokens\nfor token in doc:\n    # Print the text and the predicted part-of-speech tag\n    print(token.text, token.pos_)"
        }
    ],
    "metadata": {
        "kernelspec": {
            "display_name": "Poetry",
            "language": "python",
            "name": "poetry-kernel"
        },
        "language_info": {
            "codemirror_mode": {
                "name": "ipython",
                "version": 3
            },
            "file_extension": ".py",
            "mimetype": "text/x-python",
            "name": "python",
            "nbconvert_exporter": "python",
            "pygments_lexer": "ipython3",
            "version": "3.11.3"
        }
    },
    "nbformat": 4,
    "nbformat_minor": 5
}