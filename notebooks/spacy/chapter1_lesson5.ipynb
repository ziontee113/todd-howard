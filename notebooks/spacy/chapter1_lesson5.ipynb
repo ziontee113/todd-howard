{
    "cells": [
        {
            "cell_type": "markdown",
            "metadata": {},
            "source": "## spaCy course - Chapter 1 - Lesson 5\n\n---\n\nhttps://course.spacy.io/en/chapter1"
        },
        {
            "cell_type": "code",
            "execution_count": 1,
            "metadata": {
                "trusted": true
            },
            "outputs": [],
            "source": "import spacy"
        },
        {
            "cell_type": "code",
            "execution_count": 3,
            "metadata": {
                "trusted": true
            },
            "outputs": [],
            "source": "nlp = spacy.load(\"en_core_web_sm\")"
        },
        {
            "cell_type": "code",
            "execution_count": 11,
            "metadata": {
                "trusted": true
            },
            "outputs": [],
            "source": "doc = nlp(\"She ate the pizza\")"
        },
        {
            "cell_type": "code",
            "execution_count": 12,
            "metadata": {
                "trusted": true
            },
            "outputs": [
                {
                    "name": "stdout",
                    "output_type": "stream",
                    "text": "She PRON nsubj ate\nate VERB ROOT ate\nthe DET det pizza\npizza NOUN dobj ate\n"
                }
            ],
            "source": "for token in doc:\n    print(token.text, token.pos_, token.dep_, token.head.text)"
        },
        {
            "cell_type": "code",
            "execution_count": 13,
            "metadata": {
                "trusted": true
            },
            "outputs": [
                {
                    "name": "stdout",
                    "output_type": "stream",
                    "text": "Apple ORG\nU.K. GPE\n$1 billion MONEY\n"
                }
            ],
            "source": "doc = nlp(\"Apple is looking at buying U.K. startup for $1 billion\")\n\nfor ent in doc.ents:\n    print(ent.text, ent.label_)"
        }
    ],
    "metadata": {
        "kernelspec": {
            "display_name": "Poetry",
            "language": "python",
            "name": "poetry-kernel"
        },
        "language_info": {
            "codemirror_mode": {
                "name": "ipython",
                "version": 3
            },
            "file_extension": ".py",
            "mimetype": "text/x-python",
            "name": "python",
            "nbconvert_exporter": "python",
            "pygments_lexer": "ipython3",
            "version": "3.11.3"
        }
    },
    "nbformat": 4,
    "nbformat_minor": 5
}